{
 "cells": [
  {
   "cell_type": "markdown",
   "metadata": {},
   "source": [
    "# Importing Libraries"
   ]
  },
  {
   "cell_type": "code",
   "execution_count": 1,
   "metadata": {},
   "outputs": [
    {
     "name": "stdout",
     "output_type": "stream",
     "text": [
      "Populating the interactive namespace from numpy and matplotlib\n"
     ]
    },
    {
     "name": "stderr",
     "output_type": "stream",
     "text": [
      "C:\\Users\\Aditi\\anaconda3\\lib\\site-packages\\IPython\\core\\magics\\pylab.py:159: UserWarning: pylab import has clobbered these variables: ['random', 'shuffle']\n",
      "`%matplotlib` prevents importing * from pylab and numpy\n",
      "  warn(\"pylab import has clobbered these variables: %s\"  % clobbered +\n"
     ]
    }
   ],
   "source": [
    "from sklearn import linear_model\n",
    "from sklearn.tree import DecisionTreeRegressor\n",
    "from sklearn.ensemble import RandomForestRegressor\n",
    "from sklearn.svm import LinearSVR\n",
    "from sklearn.neural_network import MLPRegressor\n",
    "\n",
    "from sklearn.utils import shuffle\n",
    "from sklearn.base import BaseEstimator\n",
    "from sklearn.utils.validation import check_X_y, check_array, check_is_fitted\n",
    "from sklearn.model_selection import GridSearchCV\n",
    "\n",
    "import math\n",
    "import numpy as np\n",
    "import random\n",
    "import logging\n",
    "import numbers\n",
    "import pandas as pd\n",
    "import matplotlib.pyplot as plt\n",
    "import numpy as np\n",
    "\n",
    "from sksurv.tree import SurvivalTree\n",
    "from lifelines.utils import concordance_index\n",
    "from sklearn.model_selection import train_test_split\n",
    "from sksurv.tree import SurvivalTree\n",
    "from sksurv.datasets import load_gbsg2\n",
    "from sksurv.preprocessing import OneHotEncoder\n",
    "\n",
    "%matplotlib inline\n",
    "%pylab inline\n",
    "figsize(12,6)\n",
    "\n",
    "import warnings\n",
    "warnings.filterwarnings(\"ignore\")"
   ]
  },
  {
   "cell_type": "markdown",
   "metadata": {},
   "source": [
    "# COBRA Base Estimator"
   ]
  },
  {
   "cell_type": "code",
   "execution_count": 2,
   "metadata": {},
   "outputs": [],
   "source": [
    "logger = logging.getLogger('pycobra.cobra')\n",
    "\n",
    "\n",
    "class Cobra(BaseEstimator):\n",
    "\n",
    "    def __init__(self, random_state=None, epsilon=None, machine_list='basic'):\n",
    "        self.random_state = random_state\n",
    "        self.epsilon = epsilon\n",
    "        self.machine_list = machine_list\n",
    "    \n",
    "    def fit(self, X, y, default=True, X_k=None, X_l=None, y_k=None, y_l=None):\n",
    "        X, y = check_X_y(X, y)\n",
    "        self.X_ = X\n",
    "        self.y_ = y\n",
    "        self.X_k_ = X_k\n",
    "        self.X_l_ = X_l\n",
    "        self.y_k_ = y_k\n",
    "        self.y_l_ = y_l\n",
    "        self.estimators_ = {}\n",
    "        # set-up COBRA with default machines\n",
    "        if default:\n",
    "            self.split_data()\n",
    "            self.load_default(machine_list=self.machine_list)\n",
    "            self.load_machine_predictions()\n",
    "\n",
    "        return self\n",
    "\n",
    "\n",
    "    def set_epsilon(self, X_epsilon=None, y_epsilon=None, grid_points=50):\n",
    "        # if no epsilon value is passed, we set up COBRA to perform CV and find an optimal epsilon.\n",
    "        if self.epsilon is None and X_epsilon is not None:\n",
    "            self.X_ = X_epsilon\n",
    "            self.y_ = y_epsilon\n",
    "            self.split_data()\n",
    "            self.load_default()\n",
    "            self.load_machine_predictions()\n",
    "            a, size = sorted(self.all_predictions_), len(self.all_predictions_)\n",
    "            res = [a[i + 1] - a[i] for i in range(size) if i+1 < size]\n",
    "            emin = min(res)\n",
    "            emax = max(a) - min(a)\n",
    "            erange = np.linspace(emin, emax, grid_points)\n",
    "            tuned_parameters = [{'epsilon': erange}]\n",
    "            clf = GridSearchCV(self, tuned_parameters, scoring=\"neg_mean_squared_error\")\n",
    "            clf.fit(X_epsilon, y_epsilon)\n",
    "            self.epsilon = clf.best_params_[\"epsilon\"]\n",
    "            self.estimators_, self.machine_predictions_ = {}, {}\n",
    "\n",
    "    \n",
    "    def pred_surv(self, X, alpha, info=False):\n",
    "        # dictionary mapping machine to points selected\n",
    "        select = {}\n",
    "        for machine in self.estimators_:\n",
    "            # machine prediction\n",
    "            val = self.estimators_[machine].predict(X)\n",
    "            select[machine] = set()\n",
    "            # iterating from l to n\n",
    "            # replace with numpy iteration\n",
    "            for count in range(0, len(self.X_l_)):\n",
    "                try:\n",
    "                    # if value is close to prediction, select the indice\n",
    "                    if math.fabs(self.machine_predictions_[machine][count] - val) <= self.epsilon:\n",
    "                        select[machine].add(count)\n",
    "                except (ValueError, TypeError) as e:\n",
    "                    logger.info(\"Error in indice selection\")\n",
    "                    continue\n",
    "\n",
    "        points = []\n",
    "        # count is the indice number.\n",
    "        for count in range(0, len(self.X_l_)):\n",
    "            # row check is number of machines which picked up a particular point\n",
    "            row_check = 0\n",
    "            for machine in select:\n",
    "                if count in select[machine]:\n",
    "                    row_check += 1\n",
    "            if row_check == alpha:\n",
    "                points.append(count)\n",
    "\n",
    "        # if no points are selected, return 0\n",
    "        if len(points) == 0:\n",
    "            if info:\n",
    "                logger.info(\"No points were selected, prediction is 0\")\n",
    "                return (0, 0)\n",
    "            return None\n",
    "\n",
    "        # aggregate\n",
    "        avg_surv = None\n",
    "        # points = [pt for pt in points if self.y_l_[pt][0]]\n",
    "        \n",
    "        for point in points:\n",
    "            for machine in select:\n",
    "                val = self.estimators_[machine].predict_surv(self.X_l_[point].reshape(1,-1))[0]\n",
    "                if avg_surv is None:\n",
    "                    avg_surv = val\n",
    "                else:\n",
    "                    avg_surv += val\n",
    "        avg_surv = avg_surv / avg_surv[0]\n",
    "\n",
    "        if info:\n",
    "            return avg_surv, points\n",
    "        return avg_surv\n",
    "    \n",
    "    def predict_survival_function(self, X, alpha=None, info=False):\n",
    "\n",
    "        # sets alpha as the total number of machines as a default value\n",
    "\n",
    "        X = check_array(X)\n",
    "\n",
    "        if alpha is None:\n",
    "            alpha = len(self.estimators_)\n",
    "        if X.ndim == 1:\n",
    "            return self.pred_surv(X.reshape(1, -1), info=info, alpha=alpha)\n",
    "\n",
    "        result = [None]*len(X)\n",
    "        avg_points = 0\n",
    "        index = 0\n",
    "        for vector in X:\n",
    "            if info:\n",
    "                result[index], points = self.pred_surv(vector.reshape(1, -1), info=info, alpha=alpha)\n",
    "                avg_points += len(points)\n",
    "            else:\n",
    "                result[index] = self.pred_surv(vector.reshape(1, -1), info=info, alpha=alpha)\n",
    "            index += 1\n",
    "\n",
    "        result = np.array(result)\n",
    "        \n",
    "        if info:\n",
    "            avg_points = avg_points / len(X_array)\n",
    "            return result, avg_points\n",
    "\n",
    "        return result\n",
    "\n",
    "    def split_data(self, k=None, l=None, shuffle_data=False):\n",
    "\n",
    "        if shuffle_data:\n",
    "            self.X_, self.y_ = shuffle(self.X_, self.y_, random_state=self.random_state)\n",
    "\n",
    "        if k is None and l is None:\n",
    "            k = int(len(self.X_) / 2)\n",
    "            l = int(len(self.X_))\n",
    "\n",
    "        if k is not None and l is None:\n",
    "            l = len(self.X_) - k\n",
    "\n",
    "        if l is not None and k is None:\n",
    "            k = len(self.X_) - l\n",
    "\n",
    "        self.X_k_ = self.X_[:k]\n",
    "        self.X_l_ = self.X_[k:l]\n",
    "        self.y_k_ = self.y_[:k]\n",
    "        self.y_l_ = self.y_[k:l]\n",
    "\n",
    "        return self\n",
    "\n",
    "\n",
    "    def load_machine(self, machine_name, machine):\n",
    "        self.estimators_[machine_name] = machine\n",
    "\n",
    "        return self\n",
    "\n",
    "\n",
    "    def load_machine_predictions(self, predictions=None):\n",
    "        self.machine_predictions_ = {}\n",
    "        self.all_predictions_ = np.array([])\n",
    "        if predictions is None:\n",
    "            for machine in self.estimators_:\n",
    "                self.machine_predictions_[machine] = self.estimators_[machine].predict(self.X_l_)\n",
    "                # all_predictions_ is used in the diagnostics class, and for initialising epsilon\n",
    "                self.all_predictions_ = np.append(self.all_predictions_, self.machine_predictions_[machine])\n",
    "\n",
    "        if predictions is not None:\n",
    "            self.machine_predictions_ = predictions\n",
    "\n",
    "        return self"
   ]
  },
  {
   "cell_type": "markdown",
   "metadata": {},
   "source": [
    "# Constructing survival tree"
   ]
  },
  {
   "cell_type": "code",
   "execution_count": 3,
   "metadata": {},
   "outputs": [],
   "source": [
    "class PyCobraSurvivalTree(SurvivalTree):\n",
    "    \n",
    "    def __init__(self, **kwargs):\n",
    "        super().__init__(**kwargs)\n",
    "    \n",
    "    def predict(self, X):\n",
    "        surv_func = super().predict_survival_function(X,return_array=True)\n",
    "        mean = [0]*len(surv_func)\n",
    "        for i in range(len(surv_func)):\n",
    "            mean[i] = sum((self.event_times_[:-1]+self.event_times_[1:])*(surv_func[i,:-1]-surv_func[i,1:]))/2 + self.event_times_[-1]*surv_func[i,-1]\n",
    "        return mean\n",
    "    \n",
    "    def predict_surv(self, X, return_array=True):\n",
    "        return super().predict_survival_function(X,return_array=return_array)\n",
    "    \n",
    "    def fit(self, *args, **kwargs):\n",
    "        return super().fit(*args, **kwargs)"
   ]
  },
  {
   "cell_type": "markdown",
   "metadata": {},
   "source": [
    "# Loading dataset and train test split"
   ]
  },
  {
   "cell_type": "code",
   "execution_count": 4,
   "metadata": {},
   "outputs": [],
   "source": [
    "X, y = load_gbsg2()\n",
    "X.loc[:, \"tgrade\"] = X.loc[:, \"tgrade\"].map(len).astype(int)\n",
    "Xt = OneHotEncoder().fit_transform(X)\n",
    "df_y = pd.DataFrame(data={'time': [y[i][1] for i in range(len(y))], 'event': [y[i][0] for i in range(len(y))]})\n",
    "random_state = 20\n",
    "X_train, X_test, y_train, y_test = train_test_split(Xt, y, test_size=0.25, random_state=random_state)"
   ]
  },
  {
   "cell_type": "markdown",
   "metadata": {},
   "source": [
    "# Constructing COBRA model with survival trees as estimators"
   ]
  },
  {
   "cell_type": "code",
   "execution_count": 5,
   "metadata": {},
   "outputs": [
    {
     "data": {
      "text/plain": [
       "Cobra(epsilon=1000)"
      ]
     },
     "execution_count": 5,
     "metadata": {},
     "output_type": "execute_result"
    }
   ],
   "source": [
    "survivalCobra = Cobra(epsilon=1000)\n",
    "survivalCobra.fit(X_train,y_train,default=False)\n",
    "for i in range(4):\n",
    "    survivalTree = PyCobraSurvivalTree(splitter='random', random_state=i)\n",
    "    survivalTree.fit(X_train,y_train)\n",
    "    survivalCobra.load_machine(f'survTree_{i:2d}',survivalTree)\n",
    "eventTimes = survivalTree.event_times_\n",
    "survivalCobra.split_data()\n",
    "survivalCobra.load_machine_predictions()"
   ]
  },
  {
   "cell_type": "code",
   "execution_count": 6,
   "metadata": {},
   "outputs": [],
   "source": [
    "y = survivalCobra.predict_survival_function(X_test)"
   ]
  },
  {
   "cell_type": "markdown",
   "metadata": {},
   "source": [
    "# Calculating integrated brier score for the model"
   ]
  },
  {
   "cell_type": "code",
   "execution_count": 7,
   "metadata": {},
   "outputs": [
    {
     "name": "stdout",
     "output_type": "stream",
     "text": [
      "The integrated brier score is 0.1671782003861551\n"
     ]
    }
   ],
   "source": [
    "from scipy.interpolate import interp1d\n",
    "from sksurv.metrics import integrated_brier_score\n",
    "times = np.arange(80, 2300)\n",
    "preds = []\n",
    "\n",
    "for i in range(len(y)):\n",
    "    step_fun = interp1d(eventTimes, y[i], kind='previous')\n",
    "    preds.append(np.asarray([step_fun(t) for t in times]))\n",
    "\n",
    "score = integrated_brier_score(y_test, y_test, preds, times)\n",
    "print(\"The integrated brier score is \" + str(score))"
   ]
  },
  {
   "cell_type": "markdown",
   "metadata": {},
   "source": [
    "# Predicted survival function using COBRA"
   ]
  },
  {
   "cell_type": "code",
   "execution_count": 8,
   "metadata": {},
   "outputs": [
    {
     "data": {
      "text/plain": [
       "Text(0.5, 1.0, 'Survival Function')"
      ]
     },
     "execution_count": 8,
     "metadata": {},
     "output_type": "execute_result"
    },
    {
     "data": {
      "image/png": "[encoded data removed]",
      "text/plain": [
       "<Figure size 864x432 with 1 Axes>"
      ]
     },
     "metadata": {
      "needs_background": "light"
     },
     "output_type": "display_data"
    }
   ],
   "source": [
    "y_t = survivalCobra.predict_survival_function(X_test.iloc[0:4])\n",
    "for i in range(len(y_t)):\n",
    "    plt.step(eventTimes, y_t[i], where=\"post\",label=f\"patient {X_test.iloc[i].name}\")\n",
    "\n",
    "plt.xlabel(\"Time in years\")\n",
    "plt.ylabel(\"Survival Probability\")\n",
    "plt.legend()\n",
    "plt.title('Survival Function')"
   ]
  },
  {
   "cell_type": "code",
   "execution_count": null,
   "metadata": {},
   "outputs": [],
   "source": []
  }
 ],
 "metadata": {
  "kernelspec": {
   "display_name": "Python 3",
   "language": "python",
   "name": "python3"
  },
  "language_info": {
   "codemirror_mode": {
    "name": "ipython",
    "version": 3
   },
   "file_extension": ".py",
   "mimetype": "text/x-python",
   "name": "python",
   "nbconvert_exporter": "python",
   "pygments_lexer": "ipython3",
   "version": "3.8.5"
  }
 },
 "nbformat": 4,
 "nbformat_minor": 4
}
