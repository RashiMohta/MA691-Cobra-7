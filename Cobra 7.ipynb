{
 "cells": [
  {
   "cell_type": "code",
   "execution_count": 8,
   "id": "individual-shield",
   "metadata": {},
   "outputs": [
    {
     "name": "stdout",
     "output_type": "stream",
     "text": [
      "Collecting scikit-survival\n",
      "  Downloading scikit-survival-0.16.0.tar.gz (2.5 MB)\n",
      "\u001b[K     |████████████████████████████████| 2.5 MB 260 kB/s eta 0:00:01\n",
      "\u001b[?25h  Installing build dependencies ... \u001b[?25ldone\n",
      "\u001b[?25h  Getting requirements to build wheel ... \u001b[?25ldone\n",
      "\u001b[?25h    Preparing wheel metadata ... \u001b[?25ldone\n",
      "\u001b[?25hRequirement already satisfied: joblib in ./.local/lib/python3.8/site-packages (from scikit-survival) (0.17.0)\n",
      "Collecting ecos\n",
      "  Downloading ecos-2.0.7.post1.tar.gz (126 kB)\n",
      "\u001b[K     |████████████████████████████████| 126 kB 456 kB/s eta 0:00:01\n",
      "\u001b[?25hRequirement already satisfied: scipy!=1.3.0,>=1.0 in /usr/lib/python3/dist-packages (from scikit-survival) (1.3.3)\n",
      "Requirement already satisfied: numexpr in /usr/lib/python3/dist-packages (from scikit-survival) (2.7.1)\n",
      "Requirement already satisfied: pandas>=0.25 in ./.local/lib/python3.8/site-packages (from scikit-survival) (1.3.2)\n",
      "Collecting osqp!=0.6.0,!=0.6.1\n",
      "  Downloading osqp-0.6.2.post0-cp38-cp38-manylinux2014_x86_64.whl (215 kB)\n",
      "\u001b[K     |████████████████████████████████| 215 kB 752 kB/s eta 0:00:01\n",
      "\u001b[?25hRequirement already satisfied: numpy in ./.local/lib/python3.8/site-packages (from scikit-survival) (1.21.2)\n",
      "Collecting scikit-learn<0.25,>=0.24.0\n",
      "  Downloading scikit_learn-0.24.2-cp38-cp38-manylinux2010_x86_64.whl (24.9 MB)\n",
      "\u001b[K     |████████████████████████████████| 24.9 MB 132 kB/s eta 0:00:01\n",
      "\u001b[?25hRequirement already satisfied: python-dateutil>=2.7.3 in /usr/lib/python3/dist-packages (from pandas>=0.25->scikit-survival) (2.7.3)\n",
      "Requirement already satisfied: pytz>=2017.3 in /usr/lib/python3/dist-packages (from pandas>=0.25->scikit-survival) (2019.3)\n",
      "Collecting qdldl\n",
      "  Downloading qdldl-0.1.5.post0-cp38-cp38-manylinux2014_x86_64.whl (921 kB)\n",
      "\u001b[K     |████████████████████████████████| 921 kB 801 kB/s eta 0:00:01\n",
      "\u001b[?25hRequirement already satisfied: threadpoolctl>=2.0.0 in ./.local/lib/python3.8/site-packages (from scikit-learn<0.25,>=0.24.0->scikit-survival) (2.1.0)\n",
      "Building wheels for collected packages: scikit-survival, ecos\n",
      "  Building wheel for scikit-survival (PEP 517) ... \u001b[?25ldone\n",
      "\u001b[?25h  Created wheel for scikit-survival: filename=scikit_survival-0.16.0-cp38-cp38-linux_x86_64.whl size=4892814 sha256=00ea5db5241931517ac26cb50867a28ba637f156c22cf648c9f0ba5596f83f23\n",
      "  Stored in directory: /home/rashi/.cache/pip/wheels/de/63/7c/f9e1b7ab156e53a8e73205efe95e8399bb5a86070a8fe7202b\n",
      "  Building wheel for ecos (setup.py) ... \u001b[?25ldone\n",
      "\u001b[?25h  Created wheel for ecos: filename=ecos-2.0.7.post1-cp38-cp38-linux_x86_64.whl size=217270 sha256=1de3791a7588e323bc9be489f0033fe9c46be72255cfe49d4b5e81bd06255410\n",
      "  Stored in directory: /home/rashi/.cache/pip/wheels/c3/c1/ce/b551b0b3a40c990e1da2ec9aecff62f7c2d43cab8766368e82\n",
      "Successfully built scikit-survival ecos\n",
      "Installing collected packages: ecos, qdldl, osqp, scikit-learn, scikit-survival\n",
      "  Attempting uninstall: scikit-learn\n",
      "    Found existing installation: scikit-learn 0.23.2\n",
      "    Uninstalling scikit-learn-0.23.2:\n",
      "      Successfully uninstalled scikit-learn-0.23.2\n",
      "Successfully installed ecos-2.0.7.post1 osqp-0.6.2.post0 qdldl-0.1.5.post0 scikit-learn-0.24.2 scikit-survival-0.16.0\n",
      "Note: you may need to restart the kernel to use updated packages.\n"
     ]
    }
   ],
   "source": [
    "pip install scikit-survival"
   ]
  },
  {
   "cell_type": "code",
   "execution_count": 1,
   "id": "banned-season",
   "metadata": {},
   "outputs": [],
   "source": [
    "from sksurv.datasets import load_gbsg2\n",
    "from sksurv.ensemble import RandomSurvivalForest\n",
    "from sksurv.linear_model import CoxPHSurvivalAnalysis\n",
    "from sksurv.ensemble import GradientBoostingSurvivalAnalysis\n",
    "from sksurv.linear_model import CoxnetSurvivalAnalysis\n",
    "from sksurv.ensemble import ComponentwiseGradientBoostingSurvivalAnalysis\n",
    "from sksurv.ensemble import ExtraSurvivalTrees\n",
    "from sklearn.model_selection import train_test_split\n",
    "from sksurv.preprocessing import OneHotEncoder\n",
    "from sksurv.metrics import integrated_brier_score\n",
    "import numpy"
   ]
  },
  {
   "cell_type": "code",
   "execution_count": 2,
   "id": "starting-hybrid",
   "metadata": {},
   "outputs": [],
   "source": [
    "X, y = load_gbsg2()\n",
    "X.loc[:, \"tgrade\"] = X.loc[:, \"tgrade\"].map(len).astype(int)\n",
    "Xt = OneHotEncoder().fit_transform(X)"
   ]
  },
  {
   "cell_type": "code",
   "execution_count": 3,
   "id": "substantial-magazine",
   "metadata": {},
   "outputs": [
    {
     "data": {
      "text/plain": [
       "Index(['age', 'estrec', 'horTh', 'menostat', 'pnodes', 'progrec', 'tgrade',\n",
       "       'tsize'],\n",
       "      dtype='object')"
      ]
     },
     "execution_count": 3,
     "metadata": {},
     "output_type": "execute_result"
    }
   ],
   "source": [
    "X.columns"
   ]
  },
  {
   "cell_type": "code",
   "execution_count": 4,
   "id": "creative-insertion",
   "metadata": {},
   "outputs": [
    {
     "data": {
      "text/plain": [
       "(686, 8)"
      ]
     },
     "execution_count": 4,
     "metadata": {},
     "output_type": "execute_result"
    }
   ],
   "source": [
    "Xt.shape"
   ]
  },
  {
   "cell_type": "code",
   "execution_count": 5,
   "id": "physical-worry",
   "metadata": {},
   "outputs": [
    {
     "data": {
      "text/plain": [
       "(686,)"
      ]
     },
     "execution_count": 5,
     "metadata": {},
     "output_type": "execute_result"
    }
   ],
   "source": [
    "y.shape"
   ]
  },
  {
   "cell_type": "code",
   "execution_count": 6,
   "id": "catholic-innocent",
   "metadata": {},
   "outputs": [],
   "source": [
    "random_state = 20\n",
    "X_train, X_test, y_train, y_test = train_test_split(\n",
    "    Xt, y, test_size=0.25, random_state=random_state)\n",
    "times = numpy.arange(365, 1826)"
   ]
  },
  {
   "cell_type": "code",
   "execution_count": 7,
   "id": "invisible-relaxation",
   "metadata": {},
   "outputs": [
    {
     "name": "stdout",
     "output_type": "stream",
     "text": [
      "0.17731976122800755\n"
     ]
    }
   ],
   "source": [
    "#1\n",
    "rsf = RandomSurvivalForest(n_estimators=1000,\n",
    "                           min_samples_split=10,\n",
    "                           min_samples_leaf=15,\n",
    "                           max_features=\"sqrt\",\n",
    "                           n_jobs=-1,\n",
    "                           random_state=random_state).fit(X_train, y_train)\n",
    "survs = rsf.predict_survival_function(X_test)\n",
    "preds = numpy.asarray([[fn(t) for t in times] for fn in survs])\n",
    "score = integrated_brier_score(y_test, y_test, preds, times)\n",
    "print(score)"
   ]
  },
  {
   "cell_type": "code",
   "execution_count": 15,
   "id": "minute-sister",
   "metadata": {},
   "outputs": [
    {
     "data": {
      "text/plain": [
       "(172, 1461)"
      ]
     },
     "execution_count": 15,
     "metadata": {},
     "output_type": "execute_result"
    }
   ],
   "source": [
    "preds.shape"
   ]
  },
  {
   "cell_type": "code",
   "execution_count": 16,
   "id": "matched-mounting",
   "metadata": {},
   "outputs": [
    {
     "data": {
      "text/plain": [
       "(172,)"
      ]
     },
     "execution_count": 16,
     "metadata": {},
     "output_type": "execute_result"
    }
   ],
   "source": [
    "y_test.shape"
   ]
  },
  {
   "cell_type": "code",
   "execution_count": 60,
   "id": "minor-recommendation",
   "metadata": {},
   "outputs": [
    {
     "name": "stdout",
     "output_type": "stream",
     "text": [
      "0.1765894001540849\n"
     ]
    }
   ],
   "source": [
    "#2\n",
    "est = CoxPHSurvivalAnalysis(ties=\"efron\").fit(X_train, y_train)\n",
    "survs = est.predict_survival_function(X_test)\n",
    "preds = numpy.asarray([[fn(t) for t in times] for fn in survs])\n",
    "score = integrated_brier_score(y_test, y_test, preds, times)\n",
    "print(score)"
   ]
  },
  {
   "cell_type": "code",
   "execution_count": 61,
   "id": "invalid-exclusion",
   "metadata": {},
   "outputs": [
    {
     "name": "stdout",
     "output_type": "stream",
     "text": [
      "0.18754099548753692\n"
     ]
    }
   ],
   "source": [
    "#3\n",
    "estimator = GradientBoostingSurvivalAnalysis(loss=\"coxph\").fit(X_train, y_train)\n",
    "survs = estimator.predict_survival_function(X_test)\n",
    "preds = numpy.asarray([[fn(t) for t in times] for fn in survs])\n",
    "score = integrated_brier_score(y_test, y_test, preds, times)\n",
    "print(score)"
   ]
  },
  {
   "cell_type": "code",
   "execution_count": 64,
   "id": "anonymous-incident",
   "metadata": {},
   "outputs": [
    {
     "name": "stdout",
     "output_type": "stream",
     "text": [
      "0.18387030486035455\n"
     ]
    }
   ],
   "source": [
    "#4\n",
    "est = CoxnetSurvivalAnalysis(l1_ratio=0.99, fit_baseline_model=True).fit(X_train, y_train) \n",
    "survs = est.predict_survival_function(X_test)\n",
    "preds = numpy.asarray([[fn(t) for t in times] for fn in survs])\n",
    "score = integrated_brier_score(y_test, y_test, preds, times)\n",
    "print(score)"
   ]
  },
  {
   "cell_type": "code",
   "execution_count": 66,
   "id": "stylish-scanning",
   "metadata": {},
   "outputs": [
    {
     "name": "stdout",
     "output_type": "stream",
     "text": [
      "0.17802749470228862\n"
     ]
    }
   ],
   "source": [
    "#5\n",
    "est = ExtraSurvivalTrees().fit(X_train, y_train) \n",
    "survs = est.predict_survival_function(X_test)\n",
    "preds = numpy.asarray([[fn(t) for t in times] for fn in survs])\n",
    "score = integrated_brier_score(y_test, y_test, preds, times)\n",
    "print(score)"
   ]
  },
  {
   "cell_type": "code",
   "execution_count": 69,
   "id": "finite-title",
   "metadata": {},
   "outputs": [
    {
     "name": "stdout",
     "output_type": "stream",
     "text": [
      "0.18472486686898992\n"
     ]
    }
   ],
   "source": [
    "#6\n",
    "est = ComponentwiseGradientBoostingSurvivalAnalysis(loss=\"coxph\").fit(X_train, y_train) \n",
    "survs = est.predict_survival_function(X_test)\n",
    "preds = numpy.asarray([[fn(t) for t in times] for fn in survs])\n",
    "score = integrated_brier_score(y_test, y_test, preds, times)\n",
    "print(score)"
   ]
  },
  {
   "cell_type": "code",
   "execution_count": null,
   "id": "dimensional-conducting",
   "metadata": {},
   "outputs": [],
   "source": []
  }
 ],
 "metadata": {
  "kernelspec": {
   "display_name": "Python 3",
   "language": "python",
   "name": "python3"
  },
  "language_info": {
   "codemirror_mode": {
    "name": "ipython",
    "version": 3
   },
   "file_extension": ".py",
   "mimetype": "text/x-python",
   "name": "python",
   "nbconvert_exporter": "python",
   "pygments_lexer": "ipython3",
   "version": "3.8.10"
  }
 },
 "nbformat": 4,
 "nbformat_minor": 5
}
